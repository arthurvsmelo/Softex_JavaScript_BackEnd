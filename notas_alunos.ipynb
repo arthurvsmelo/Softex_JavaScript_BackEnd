{
 "cells": [
  {
   "cell_type": "code",
   "execution_count": 2,
   "metadata": {},
   "outputs": [
    {
     "ename": "ModuleNotFoundError",
     "evalue": "No module named 'pandas'",
     "output_type": "error",
     "traceback": [
      "\u001b[1;31m---------------------------------------------------------------------------\u001b[0m",
      "\u001b[1;31mModuleNotFoundError\u001b[0m                       Traceback (most recent call last)",
      "\u001b[1;32mc:\\Users\\arthu\\Documents\\GitHub\\Softex_JavaScript_BackEnd\\notas_alunos.ipynb Cell 1'\u001b[0m in \u001b[0;36m<cell line: 1>\u001b[1;34m()\u001b[0m\n\u001b[1;32m----> <a href='vscode-notebook-cell:/c%3A/Users/arthu/Documents/GitHub/Softex_JavaScript_BackEnd/notas_alunos.ipynb#ch0000000?line=0'>1</a>\u001b[0m \u001b[39mimport\u001b[39;00m \u001b[39mpandas\u001b[39;00m \u001b[39mas\u001b[39;00m \u001b[39mpd\u001b[39;00m\n\u001b[0;32m      <a href='vscode-notebook-cell:/c%3A/Users/arthu/Documents/GitHub/Softex_JavaScript_BackEnd/notas_alunos.ipynb#ch0000000?line=2'>3</a>\u001b[0m df \u001b[39m=\u001b[39m pd\u001b[39m.\u001b[39mread_csv(\u001b[39m\"\u001b[39m\u001b[39mC:\u001b[39m\u001b[39m\\\\\u001b[39;00m\u001b[39mUsers\u001b[39m\u001b[39m\\\\\u001b[39;00m\u001b[39marthu\u001b[39m\u001b[39m\\\\\u001b[39;00m\u001b[39mDesktop\u001b[39m\u001b[39m\\\\\u001b[39;00m\u001b[39mnotas_alunos.csv\u001b[39m\u001b[39m\"\u001b[39m)\n\u001b[0;32m      <a href='vscode-notebook-cell:/c%3A/Users/arthu/Documents/GitHub/Softex_JavaScript_BackEnd/notas_alunos.ipynb#ch0000000?line=3'>4</a>\u001b[0m \u001b[39mprint\u001b[39m(df[\u001b[39m\"\u001b[39m\u001b[39mid\u001b[39m\u001b[39m\"\u001b[39m])\n",
      "\u001b[1;31mModuleNotFoundError\u001b[0m: No module named 'pandas'"
     ]
    }
   ],
   "source": [
    "import pandas as pd\n",
    "\n",
    "df = pd.read_csv(\"notas_alunos.csv\")\n",
    "media = df[\"nota_1\"] + df[\"nota_2\"] / 2\n",
    "df[\"media\"] = media                                                       # cria a coluna \"media\"\n",
    "situacao = \"indf\"\n",
    "df[\"situacao\"] = situacao                                                 # cria a coluna \"situação\"\n",
    "df.loc[df[\"media\"] >= 7 and df[\"faltas\"] < 5, \"situacao\"] = \"APROVADO\"\n",
    "df.loc[df[\"media\"] < 7 or df[\"faltas\"] >= 5, \"situacao\"] = \"REPROVADO\"\n",
    "max_faltas = df[\"faltas\"].max()                                           # salva o maior numero de faltas\n",
    "media_geral = df[\"media\"].median()                                        # salva a media das medias (media geral)\n",
    "maior_media = df[\"media\"].max()                                           # salva a maior media\n",
    "df.to_csv(\"alunos_situacao.csv\")                                          # salva o arquivo csv novo\n",
    "\n",
    "print(f\"Maior número de faltas: {max_faltas}\")\n",
    "print(f\"Média geral: {media_geral}\")\n",
    "print(f\"Maior média: {maior_media}\")"
   ]
  }
 ],
 "metadata": {
  "kernelspec": {
   "display_name": "Python 3.10.4 64-bit",
   "language": "python",
   "name": "python3"
  },
  "language_info": {
   "codemirror_mode": {
    "name": "ipython",
    "version": 3
   },
   "file_extension": ".py",
   "mimetype": "text/x-python",
   "name": "python",
   "nbconvert_exporter": "python",
   "pygments_lexer": "ipython3",
   "version": "3.10.4"
  },
  "orig_nbformat": 4,
  "vscode": {
   "interpreter": {
    "hash": "767c48a64caae0be89fa7f8f777746ad491056046165076895ba67746a6851de"
   }
  }
 },
 "nbformat": 4,
 "nbformat_minor": 2
}
